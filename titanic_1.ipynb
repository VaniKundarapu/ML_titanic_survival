{
  "nbformat": 4,
  "nbformat_minor": 0,
  "metadata": {
    "colab": {
      "provenance": []
    },
    "kernelspec": {
      "name": "python3",
      "display_name": "Python 3"
    },
    "language_info": {
      "name": "python"
    }
  },
  "cells": [
    {
      "cell_type": "code",
      "execution_count": null,
      "metadata": {
        "id": "wzTN_wJO80hz"
      },
      "outputs": [],
      "source": [
        "import numpy as np\n",
        "import pandas as pd\n",
        "import seaborn as sns\n",
        "import matplotlib.pyplot as plt"
      ]
    },
    {
      "cell_type": "code",
      "source": [
        "titanic=sns.load_dataset('titanic')\n",
        "titanic.head(10)"
      ],
      "metadata": {
        "id": "VbPAtoeK9-G1"
      },
      "execution_count": null,
      "outputs": []
    },
    {
      "cell_type": "code",
      "source": [
        "titanic.shape"
      ],
      "metadata": {
        "id": "qQ5dzuP8-bws"
      },
      "execution_count": null,
      "outputs": []
    },
    {
      "cell_type": "code",
      "source": [
        "titanic.discribe()"
      ],
      "metadata": {
        "id": "j0r3q1bN-qPv"
      },
      "execution_count": null,
      "outputs": []
    },
    {
      "cell_type": "code",
      "source": [
        "titanic['survived'].value_counts()"
      ],
      "metadata": {
        "id": "G_KXkY5l-_NY"
      },
      "execution_count": null,
      "outputs": []
    },
    {
      "cell_type": "code",
      "source": [
        "sns.countplot(titanic['survived'])"
      ],
      "metadata": {
        "id": "Gx2SPpJGDHyD"
      },
      "execution_count": null,
      "outputs": []
    },
    {
      "cell_type": "code",
      "source": [
        "cols =['who,'sex','pclass','sibsp','embarked']\n",
        "n_rows = 2\n",
        "n_cols = 3\n",
        "fig, axs +plt.subplots(n_rows,n_cols,figsixe=(n_cols*3.2,n_rows*3.2))\n",
        "for r in range(0,n_rows):\n",
        "  for c in range(0,n_cols):\n",
        "    i=r*n_cols + c\n",
        "    ax =axs[r][c]\n",
        "    sns.countplot(titanic[cols[i]]hue=titanic['survived'],ax=ax)\n",
        "    ax.set_title(cols[i])\n",
        "    ax.legend(title='survived',loc = 'upper right')\n",
        "    plt.tight_layout()"
      ],
      "metadata": {
        "id": "1owz_3FoDcEp"
      },
      "execution_count": null,
      "outputs": []
    },
    {
      "cell_type": "code",
      "source": [
        "titanic.groupby('sex')[['survived']].mean()"
      ],
      "metadata": {
        "id": "9QVbKIejKCx-"
      },
      "execution_count": null,
      "outputs": []
    },
    {
      "cell_type": "code",
      "source": [
        "titanic.pivot_table('survived',index='sex',columns='class')"
      ],
      "metadata": {
        "id": "YmQjNuWXKXdS"
      },
      "execution_count": null,
      "outputs": []
    },
    {
      "cell_type": "code",
      "source": [
        "titanic.pivot_table('survived',index='sex',columns='class').plot()"
      ],
      "metadata": {
        "id": "j7CYyHwRKohA"
      },
      "execution_count": null,
      "outputs": []
    },
    {
      "cell_type": "code",
      "source": [
        "sns.barplot(x='class',y='survived',data=titanic)"
      ],
      "metadata": {
        "id": "1Y3v_31WK43R"
      },
      "execution_count": null,
      "outputs": []
    },
    {
      "cell_type": "code",
      "source": [
        "age = pd.cut(titanic['age'],[0,18])\n",
        "titanic.pivot_table('survived',['sex',age],'class')"
      ],
      "metadata": {
        "id": "dmoGAZGELLBi",
        "colab": {
          "base_uri": "https://localhost:8080/",
          "height": 187
        },
        "outputId": "b367cceb-56cc-4a41-8551-9f8b8fefa21b"
      },
      "execution_count": null,
      "outputs": [
        {
          "output_type": "error",
          "ename": "NameError",
          "evalue": "ignored",
          "traceback": [
            "\u001b[0;31m---------------------------------------------------------------------------\u001b[0m",
            "\u001b[0;31mNameError\u001b[0m                                 Traceback (most recent call last)",
            "\u001b[0;32m<ipython-input-6-5e41ad9cca7d>\u001b[0m in \u001b[0;36m<module>\u001b[0;34m\u001b[0m\n\u001b[0;32m----> 1\u001b[0;31m \u001b[0mage\u001b[0m \u001b[0;34m=\u001b[0m \u001b[0mpd\u001b[0m\u001b[0;34m.\u001b[0m\u001b[0mcut\u001b[0m\u001b[0;34m(\u001b[0m\u001b[0mtitanic\u001b[0m\u001b[0;34m[\u001b[0m\u001b[0;34m'age'\u001b[0m\u001b[0;34m]\u001b[0m\u001b[0;34m,\u001b[0m\u001b[0;34m[\u001b[0m\u001b[0;36m0\u001b[0m\u001b[0;34m,\u001b[0m\u001b[0;36m18\u001b[0m\u001b[0;34m]\u001b[0m\u001b[0;34m)\u001b[0m\u001b[0;34m\u001b[0m\u001b[0;34m\u001b[0m\u001b[0m\n\u001b[0m\u001b[1;32m      2\u001b[0m \u001b[0mtitanic\u001b[0m\u001b[0;34m.\u001b[0m\u001b[0mpivot_table\u001b[0m\u001b[0;34m(\u001b[0m\u001b[0;34m'survived'\u001b[0m\u001b[0;34m,\u001b[0m\u001b[0;34m[\u001b[0m\u001b[0;34m'sex'\u001b[0m\u001b[0;34m,\u001b[0m\u001b[0mage\u001b[0m\u001b[0;34m]\u001b[0m\u001b[0;34m,\u001b[0m\u001b[0;34m'class'\u001b[0m\u001b[0;34m)\u001b[0m\u001b[0;34m\u001b[0m\u001b[0;34m\u001b[0m\u001b[0m\n",
            "\u001b[0;31mNameError\u001b[0m: name 'titanic' is not defined"
          ]
        }
      ]
    },
    {
      "cell_type": "code",
      "source": [
        "#plot the prices paid of each class\n",
        "plt.scatter(titanic['fare'],titanic['class'],color='purple',label='passenger paid')\n",
        "plt.ylabel('class')\n",
        "plt.xlabel('price/fare')\n",
        "plt.title('price of each class')\n",
        "plt.legend()\n",
        "plt.show()"
      ],
      "metadata": {
        "id": "ITlNovJGfjkt"
      },
      "execution_count": null,
      "outputs": []
    },
    {
      "cell_type": "code",
      "source": [
        "#count the empty values in each column\n",
        "titanic.isna().sum()"
      ],
      "metadata": {
        "id": "l3s6KOc4ieCw"
      },
      "execution_count": null,
      "outputs": []
    },
    {
      "cell_type": "code",
      "source": [
        "# look at all the values in each column and get a count\n",
        "for val in titanic:\n",
        "  print(titanic[val].value_counts())\n",
        "  print()\n"
      ],
      "metadata": {
        "id": "feFcfSfCiuhN"
      },
      "execution_count": null,
      "outputs": []
    },
    {
      "cell_type": "code",
      "source": [
        "#drop the columns\n",
        "titanic=titanic.drop(['deck','embark_town','alive','class','who','alone','adult_male'],axis=1)\n",
        "#remove the rows with missing values\n",
        "titanic=titanic.dropna(subset=['embarked','age'])\n"
      ],
      "metadata": {
        "id": "DV11BtqTjQs5"
      },
      "execution_count": null,
      "outputs": []
    },
    {
      "cell_type": "code",
      "source": [
        "#count the new number of rows and columns in data set\n",
        "titanic.shape"
      ],
      "metadata": {
        "id": "bM9j0SWSkciu"
      },
      "execution_count": null,
      "outputs": []
    },
    {
      "cell_type": "code",
      "source": [
        "#look at the data types\n",
        "titanic.dtypes"
      ],
      "metadata": {
        "id": "tpRe466Skrdf"
      },
      "execution_count": null,
      "outputs": []
    },
    {
      "cell_type": "code",
      "source": [
        "#print the unique values in the columns\n",
        "print(titanic['sex'].unique())\n",
        "print(titanic['embarked'].unique())"
      ],
      "metadata": {
        "id": "l2FA5HuvnwMe"
      },
      "execution_count": null,
      "outputs": []
    },
    {
      "cell_type": "code",
      "source": [
        "from sklearn.preprocessing import LabelEncoder\n",
        "labelencoder=LabelEncoder()\n",
        "#encode the sex column\n",
        "titanic.iloc[:,2]=labelencoder.fit_transform(titanic.iloc[:,2].values)\n",
        "#encode the embarked column\n",
        "titanic.iloc[:,7]=labelencoder.fit_transform(titanic.iloc[:,7].values)"
      ],
      "metadata": {
        "id": "ip_PWPByk0n_"
      },
      "execution_count": null,
      "outputs": []
    },
    {
      "cell_type": "code",
      "source": [
        "#print the unique values in the columns\n",
        "print(titanic['sex'].unique())\n",
        "print(titanic['embarked'].unique())"
      ],
      "metadata": {
        "id": "ZFGpc-4nopls"
      },
      "execution_count": null,
      "outputs": []
    },
    {
      "cell_type": "code",
      "source": [
        "titanic.dtypes "
      ],
      "metadata": {
        "id": "QMLrLSjGowk7"
      },
      "execution_count": null,
      "outputs": []
    },
    {
      "cell_type": "code",
      "source": [
        "#display the data into independent 'x' and dependent 'y' variables\n",
        "x=titanic.iloc[:,1:8].values\n",
        "y=titanic.iloc[:,0].values"
      ],
      "metadata": {
        "id": "5JWLvzuPpFLi"
      },
      "execution_count": null,
      "outputs": []
    },
    {
      "cell_type": "code",
      "source": [
        "#split the data into 80% training and 20% testing\n",
        "from sklearn.model_selection import train_test_split\n",
        "x_train,x_test,y_test =train_test_split(x,y,test_size=0.2,random_state=0)"
      ],
      "metadata": {
        "id": "hsNKa8oUpuMh"
      },
      "execution_count": null,
      "outputs": []
    },
    {
      "cell_type": "code",
      "source": [
        "#scale the data\n",
        "from sklearn.preprocessing import StandardScalar\n",
        "sc=StandardScalar()\n",
        "x_train=sc.fit_transform(x_train)\n",
        "x_test=sc.fit_transform(x_test)"
      ],
      "metadata": {
        "id": "GXx8WZKXqdAT"
      },
      "execution_count": null,
      "outputs": []
    },
    {
      "cell_type": "code",
      "source": [
        "#create the function with many machine learning models\n",
        "def models(x_train,y_train)\n",
        "\n",
        "  #use logistic regression\n",
        "  from sklearn.linear_model import LogisticRegression\n",
        "  log=LogisticRegression(random_state=0)\n",
        "  log.fit(x_train,y_train)\n",
        "\n",
        "  #use kneighbors\n",
        "  from sklearn.neighbors import kneighborsClassifier\n",
        "  knn.fit(x_train,y_train)\n",
        "\n",
        "  #use svc (linear kernel)\n",
        "  from sklearn.svm import SVC\n",
        "  svc_lin=SVC(kernel='linear',random_state=0)\n",
        "  svc_lin.fit(x_train,y_train)\n",
        "\n",
        "  #use SVC(RBF kernel)\n",
        "  from sklearn.svm import SVC\n",
        "  svc_rbf=SVC(kernel='rbf',random_state=0)\n",
        "  svc_rbf.fit(x_train,y_train)\n",
        "\n",
        "  #use gaussianNB\n",
        "  from sklearn.naive_bayes import GuassianNB\n",
        "  gauss=GaussianNB()\n",
        "  gauss.fit(x_train,y_train)\n",
        "\n",
        "  #use Decision Tree\n",
        "  from sklearn.tree import DecisionTreeClassifier\n",
        "  tree=DecisionTreeClassifier(criterion='entropy',random_state=0)\n",
        "  tree.fix(x_train,Y_train)\n",
        "\n",
        "  #use the randomForestClassifier\n",
        "  from sklearn.ensemble import randomForestClassifier\n",
        "  forest=randomForestClassifier(n_estimate=10,criterion='entropy',random_state=0)\n",
        "  forest.fit(x_train,y_train)\n",
        "  #print the training accuracy for each model\n",
        "  print('[0]Logistic Regression Training Accuracy: ',log.score(x_train,Y_train))\n",
        "  print('[1]k Neighbors Regression Training Accuracy: ',knn.score(x_train,Y_train))\n",
        "  print('[2]SVC Linear Training Accuracy: ',svc_lin.score(x_train,Y_train))\n",
        "  print('[3]SVC RBF Training Accuracy: ',svc_rbf.score(x_train,Y_train))\n",
        "  print('[4]Gaussian NB Training Accuracy: ',gauss.score(x_train,Y_train))\n",
        "  print('[5]Decision Tree Training Accuracy: ',tree.score(x_train,Y_train))\n",
        "  print('[6]Random Forest Training Accuracy: ',forest.score(x_train,Y_train))\n",
        "\n",
        "  return log, knn, svc_lin,svc_rbf,gauss,tree,forest"
      ],
      "metadata": {
        "id": "VA8ZbRuaper5"
      },
      "execution_count": null,
      "outputs": []
    },
    {
      "cell_type": "code",
      "source": [
        "#Get and train all of the models\n",
        "model=models(x-train,Y_train)"
      ],
      "metadata": {
        "id": "DWYXOkfDzbJF"
      },
      "execution_count": null,
      "outputs": []
    },
    {
      "cell_type": "code",
      "source": [
        "#show the confusion matrix and accuracy for all of hte models on the test data\n",
        "from sklearn.metrics import confusion_matrix\n",
        "\n",
        "for i in range(len(model)):\n",
        "  cm=confusion_matrix(y_test,model[i].predict(x_test))\n",
        "  #extract TN,FP,FN,TP\n",
        "  TN,FP,FN,TP=confusion_matrix(y_test,model[i].predict(x_test)).ravel()\n",
        "\n",
        "  test_score=(TP+TN)/(TP+TN+FN+FP)\n",
        "\n",
        "  print(cm)\n",
        "  print('Model[{}] Testing Accuracy =\"{}\".format(i,test_score))\n",
        "  print()\n",
        "  "
      ],
      "metadata": {
        "id": "ckP7ZkMe0G0F"
      },
      "execution_count": null,
      "outputs": []
    },
    {
      "cell_type": "code",
      "source": [
        "#get feature importance\n",
        "forest= model[6]\n",
        "importances=pd.DataFrame*{'feature':titanic.iloc[:,1:8].columns 'importance':np.round(forest.feature_importance_, 3)})\n",
        "importances =importances.sort_values('importance',ascending=False).set_index('feature')\n",
        "importances"
      ],
      "metadata": {
        "id": "b-HoYdaP16Wo"
      },
      "execution_count": null,
      "outputs": []
    },
    {
      "cell_type": "code",
      "source": [
        "#visualize the importance\n",
        "importances.plot.bar()"
      ],
      "metadata": {
        "id": "07kJz1qb4bp6"
      },
      "execution_count": null,
      "outputs": []
    },
    {
      "cell_type": "code",
      "source": [
        "#print the prediction of the random forest classifier\n",
        "pred=model[6].predict(x_test)\n",
        "print\n",
        "#print the actual values\n",
        "print(y_test)"
      ],
      "metadata": {
        "id": "tvBOQrf84xaE"
      },
      "execution_count": null,
      "outputs": []
    },
    {
      "cell_type": "code",
      "source": [
        "#my survival\n",
        "my_survival=[[1,0,10,8,6,200,0]]\n",
        "#scaling my survival\n",
        "from sklearn.preprocessing import StandardScaler\n",
        "sc=StandardScaler()\n",
        "my_survival_scaled=sc.fit_transform(my_survival)\n",
        "#print prediction of my survival using Random forest Classifier\n",
        "pred=model[6].predict(my_survival_scaled)\n",
        "print(pred)\n",
        "\n",
        "if pred == 0:\n",
        "  print('oh no! you did not make it')\n",
        "else:\n",
        "  print('Nice! you survived !')"
      ],
      "metadata": {
        "id": "yj9kbfuy5PIn",
        "colab": {
          "base_uri": "https://localhost:8080/",
          "height": 240
        },
        "outputId": "0bd2c3ed-2e90-4661-a45f-704c12c74d39"
      },
      "execution_count": null,
      "outputs": [
        {
          "output_type": "error",
          "ename": "NameError",
          "evalue": "ignored",
          "traceback": [
            "\u001b[0;31m---------------------------------------------------------------------------\u001b[0m",
            "\u001b[0;31mNameError\u001b[0m                                 Traceback (most recent call last)",
            "\u001b[0;32m<ipython-input-8-50b3aeee6a57>\u001b[0m in \u001b[0;36m<module>\u001b[0;34m\u001b[0m\n\u001b[1;32m      6\u001b[0m \u001b[0mmy_survival_scaled\u001b[0m\u001b[0;34m=\u001b[0m\u001b[0msc\u001b[0m\u001b[0;34m.\u001b[0m\u001b[0mfit_transform\u001b[0m\u001b[0;34m(\u001b[0m\u001b[0mmy_survival\u001b[0m\u001b[0;34m)\u001b[0m\u001b[0;34m\u001b[0m\u001b[0;34m\u001b[0m\u001b[0m\n\u001b[1;32m      7\u001b[0m \u001b[0;31m#print prediction of my survival using Random forest Classifier\u001b[0m\u001b[0;34m\u001b[0m\u001b[0;34m\u001b[0m\u001b[0;34m\u001b[0m\u001b[0m\n\u001b[0;32m----> 8\u001b[0;31m \u001b[0mpred\u001b[0m\u001b[0;34m=\u001b[0m\u001b[0mmodel\u001b[0m\u001b[0;34m[\u001b[0m\u001b[0;36m6\u001b[0m\u001b[0;34m]\u001b[0m\u001b[0;34m.\u001b[0m\u001b[0mpredict\u001b[0m\u001b[0;34m(\u001b[0m\u001b[0mmy_survival_scaled\u001b[0m\u001b[0;34m)\u001b[0m\u001b[0;34m\u001b[0m\u001b[0;34m\u001b[0m\u001b[0m\n\u001b[0m\u001b[1;32m      9\u001b[0m \u001b[0mprint\u001b[0m\u001b[0;34m(\u001b[0m\u001b[0mpred\u001b[0m\u001b[0;34m)\u001b[0m\u001b[0;34m\u001b[0m\u001b[0;34m\u001b[0m\u001b[0m\n\u001b[1;32m     10\u001b[0m \u001b[0;34m\u001b[0m\u001b[0m\n",
            "\u001b[0;31mNameError\u001b[0m: name 'model' is not defined"
          ]
        }
      ]
    },
    {
      "cell_type": "code",
      "source": [],
      "metadata": {
        "id": "O06VZ_Z0Hnuf"
      },
      "execution_count": null,
      "outputs": []
    }
  ]
}